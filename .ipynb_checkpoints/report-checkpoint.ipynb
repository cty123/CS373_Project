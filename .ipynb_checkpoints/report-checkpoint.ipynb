{
  "cells": [
    {
      "metadata": {},
      "cell_type": "markdown",
      "source": "# CS 373 Project\n\n## 1. Load Data"
    },
    {
      "metadata": {
        "trusted": true
      },
      "cell_type": "code",
      "source": "import pandas as pd\nimport datetime\nimport warnings\n\ndef gen_clean_data():\n    warnings.filterwarnings('ignore')\n    df = pd.read_csv(\"Melbourne_housing_FULL.csv\")\n    df = df[['Price', 'Distance', 'Date', 'Car', 'BuildingArea', 'YearBuilt']]\n    clean_df = df.dropna(how='any', axis=0)\n    clean_df['Date'] = [ (datetime.datetime(2018, 10, 1) - datetime.datetime.strptime(x, '%d/%m/%Y')).days for x in clean_df['Date']]\n    print(clean_df.head(5))\n    clean_df.to_csv(\"clean_data.csv\", sep='\\t')\n# gen_clean_data()",
      "execution_count": 36,
      "outputs": []
    },
    {
      "metadata": {},
      "cell_type": "markdown",
      "source": "## 2. Filter data, convert date delta to actual number of days"
    },
    {
      "metadata": {
        "trusted": true
      },
      "cell_type": "code",
      "source": "import numpy as np\n\nnp.set_printoptions(precision=2)\n\ndef get_data_points():\n    df = pd.read_csv(\"clean_data.csv\", sep='\\t')\n    df = df.dropna(how='any', axis=0)\n    x_points = df[['Distance', 'Date', 'Car','BuildingArea', 'YearBuilt']]\n    y_points = df[['Price']]\n    return np.array(x_points), np.array(y_points)\n\nx, y = get_data_points()\nprint(x)\nprint(y)",
      "execution_count": 51,
      "outputs": [
        {
          "output_type": "stream",
          "text": "[[   2.5  970.     0.    79.  1900. ]\n [   2.5  576.     0.   150.  1900. ]\n [   2.5  849.     2.   142.  2014. ]\n ...\n [   6.3  219.     1.   104.  2018. ]\n [   6.3  219.     2.   120.  2000. ]\n [   6.3  219.     0.   103.  1930. ]]\n[[1035000.]\n [1465000.]\n [1600000.]\n ...\n [ 888000.]\n [ 705000.]\n [1020000.]]\n",
          "name": "stdout"
        }
      ]
    },
    {
      "metadata": {},
      "cell_type": "markdown",
      "source": "## 3. Analyze the data"
    },
    {
      "metadata": {
        "trusted": true
      },
      "cell_type": "code",
      "source": "import matplotlib.pyplot as plt\n\nx, y = train.get_data_points()\ndf = pd.read_csv(\"clean_data.csv\", sep='\\t')\n\n# Plot room versus price\nplt.scatter(df['Rooms'], df['Price'], color='red')\nplt.title('# of Rooms versus Price')\nplt.xlabel('Rooms', fontsize=14)\nplt.ylabel('Prices', fontsize=14)\nplt.grid(True)\nplt.show()\n\n# Plot distance versus price\nplt.scatter(df['Distance'], df['Price'], color='red')\nplt.title('Distance versus Price')\nplt.xlabel('Distance', fontsize=14)\nplt.ylabel('Prices', fontsize=14)\nplt.grid(True)\nplt.show()\n",
      "execution_count": null,
      "outputs": []
    },
    {
      "metadata": {},
      "cell_type": "markdown",
      "source": "## 4. Train"
    },
    {
      "metadata": {
        "trusted": true
      },
      "cell_type": "code",
      "source": "from sklearn import linear_model\n\nx, y = get_data_points()\nx_train = x[:5000]\ny_train = y[:5000]\n\nreg = linear_model.LinearRegression().fit(x_train, y_train)\n\nprint(reg.predict(np.array([x[5005]])))\nprint(y[5005])\nprint(reg.score(x, y))",
      "execution_count": 59,
      "outputs": [
        {
          "output_type": "stream",
          "text": "[[729034.52]]\n[790000.]\n0.44195439637180667\n",
          "name": "stdout"
        }
      ]
    },
    {
      "metadata": {
        "trusted": true
      },
      "cell_type": "code",
      "source": "",
      "execution_count": null,
      "outputs": []
    },
    {
      "metadata": {
        "trusted": true
      },
      "cell_type": "code",
      "source": "",
      "execution_count": null,
      "outputs": []
    }
  ],
  "metadata": {
    "kernelspec": {
      "name": "python36",
      "display_name": "Python 3.6",
      "language": "python"
    },
    "language_info": {
      "mimetype": "text/x-python",
      "nbconvert_exporter": "python",
      "name": "python",
      "pygments_lexer": "ipython3",
      "version": "3.6.6",
      "file_extension": ".py",
      "codemirror_mode": {
        "version": 3,
        "name": "ipython"
      }
    }
  },
  "nbformat": 4,
  "nbformat_minor": 2
}