{
 "cells": [
  {
   "cell_type": "markdown",
   "metadata": {},
   "source": [
    "# CS 373 Project\n",
    "By Tianyu Chen(chen2216@purdue.edu), Hei Jing Tsang(tsangh@purdue.edu), Shikang Fan(fan165@purdue.edu), Ruoyu Song( song464@purdue.edu)"
   ]
  },
  {
   "cell_type": "markdown",
   "metadata": {},
   "source": [
    "## 1 Load data"
   ]
  },
  {
   "cell_type": "code",
   "execution_count": 2,
   "metadata": {},
   "outputs": [
    {
     "data": {
      "text/html": [
       "<div>\n",
       "<style>\n",
       "    .dataframe thead tr:only-child th {\n",
       "        text-align: right;\n",
       "    }\n",
       "\n",
       "    .dataframe thead th {\n",
       "        text-align: left;\n",
       "    }\n",
       "\n",
       "    .dataframe tbody tr th {\n",
       "        vertical-align: top;\n",
       "    }\n",
       "</style>\n",
       "<table border=\"1\" class=\"dataframe\">\n",
       "  <thead>\n",
       "    <tr style=\"text-align: right;\">\n",
       "      <th></th>\n",
       "      <th>Price</th>\n",
       "      <th>Distance</th>\n",
       "      <th>Car</th>\n",
       "      <th>BuildingArea</th>\n",
       "      <th>YearBuilt</th>\n",
       "    </tr>\n",
       "  </thead>\n",
       "  <tbody>\n",
       "    <tr>\n",
       "      <th>2</th>\n",
       "      <td>1035000.0</td>\n",
       "      <td>2.5</td>\n",
       "      <td>0.0</td>\n",
       "      <td>79.0</td>\n",
       "      <td>1900.0</td>\n",
       "    </tr>\n",
       "    <tr>\n",
       "      <th>4</th>\n",
       "      <td>1465000.0</td>\n",
       "      <td>2.5</td>\n",
       "      <td>0.0</td>\n",
       "      <td>150.0</td>\n",
       "      <td>1900.0</td>\n",
       "    </tr>\n",
       "    <tr>\n",
       "      <th>6</th>\n",
       "      <td>1600000.0</td>\n",
       "      <td>2.5</td>\n",
       "      <td>2.0</td>\n",
       "      <td>142.0</td>\n",
       "      <td>2014.0</td>\n",
       "    </tr>\n",
       "    <tr>\n",
       "      <th>11</th>\n",
       "      <td>1876000.0</td>\n",
       "      <td>2.5</td>\n",
       "      <td>0.0</td>\n",
       "      <td>210.0</td>\n",
       "      <td>1910.0</td>\n",
       "    </tr>\n",
       "    <tr>\n",
       "      <th>14</th>\n",
       "      <td>1636000.0</td>\n",
       "      <td>2.5</td>\n",
       "      <td>2.0</td>\n",
       "      <td>107.0</td>\n",
       "      <td>1890.0</td>\n",
       "    </tr>\n",
       "    <tr>\n",
       "      <th>18</th>\n",
       "      <td>1097000.0</td>\n",
       "      <td>2.5</td>\n",
       "      <td>2.0</td>\n",
       "      <td>75.0</td>\n",
       "      <td>1900.0</td>\n",
       "    </tr>\n",
       "    <tr>\n",
       "      <th>24</th>\n",
       "      <td>1350000.0</td>\n",
       "      <td>2.5</td>\n",
       "      <td>2.0</td>\n",
       "      <td>190.0</td>\n",
       "      <td>2005.0</td>\n",
       "    </tr>\n",
       "    <tr>\n",
       "      <th>25</th>\n",
       "      <td>750000.0</td>\n",
       "      <td>2.5</td>\n",
       "      <td>1.0</td>\n",
       "      <td>94.0</td>\n",
       "      <td>2009.0</td>\n",
       "    </tr>\n",
       "    <tr>\n",
       "      <th>30</th>\n",
       "      <td>1310000.0</td>\n",
       "      <td>2.5</td>\n",
       "      <td>2.0</td>\n",
       "      <td>97.0</td>\n",
       "      <td>1890.0</td>\n",
       "    </tr>\n",
       "    <tr>\n",
       "      <th>32</th>\n",
       "      <td>1200000.0</td>\n",
       "      <td>2.5</td>\n",
       "      <td>1.0</td>\n",
       "      <td>110.0</td>\n",
       "      <td>1880.0</td>\n",
       "    </tr>\n",
       "  </tbody>\n",
       "</table>\n",
       "</div>"
      ],
      "text/plain": [
       "        Price  Distance  Car  BuildingArea  YearBuilt\n",
       "2   1035000.0       2.5  0.0          79.0     1900.0\n",
       "4   1465000.0       2.5  0.0         150.0     1900.0\n",
       "6   1600000.0       2.5  2.0         142.0     2014.0\n",
       "11  1876000.0       2.5  0.0         210.0     1910.0\n",
       "14  1636000.0       2.5  2.0         107.0     1890.0\n",
       "18  1097000.0       2.5  2.0          75.0     1900.0\n",
       "24  1350000.0       2.5  2.0         190.0     2005.0\n",
       "25   750000.0       2.5  1.0          94.0     2009.0\n",
       "30  1310000.0       2.5  2.0          97.0     1890.0\n",
       "32  1200000.0       2.5  1.0         110.0     1880.0"
      ]
     },
     "execution_count": 2,
     "metadata": {},
     "output_type": "execute_result"
    }
   ],
   "source": [
    "import pandas as pd\n",
    "import datetime\n",
    "\n",
    "def gen_clean_data():\n",
    "    df = pd.read_csv(\"Melbourne_housing_FULL.csv\")\n",
    "    df = df[['Price', 'Distance', 'Car', 'BuildingArea', 'YearBuilt']]\n",
    "    clean_df = df.dropna(how='any', axis=0)\n",
    "    clean_df.to_csv(\"clean_data.csv\", sep='\\t')\n",
    "    return clean_df\n",
    "\n",
    "gen_clean_data().head(10)\n"
   ]
  },
  {
   "cell_type": "markdown",
   "metadata": {},
   "source": [
    "## 2 Data interpretation\n",
    "### For this project, we have the real estate trading history over the past few years from Melbourne, Australia, and our goal is to predict the house price(total) by learning from the dataset.\n",
    "To predict the house price for the city of Melbourne, Australia, we have selected 4 features out of the original 13 features. In Part 1.1, we have also filtered out the data entries where there are missing values. In the process of filtering, we dropped some features that has clearly no influence over the market price, such as the seller's name, and those that we consider to have very minimal impact like the floor plan, number of bedrooms and bathrooms.\n",
    "\n",
    "Eventually, we have selected 4 features that we believe could be used to predict the price relatively accurately. These features are, \n",
    "    1. Distance to downtown CBD (Distance);\n",
    "    2. Number of parking lots (Car);\n",
    "    3. Building area (BuildingArea);\n",
    "    4. The year that the house was built (YearBuilt)."
   ]
  },
  {
   "cell_type": "markdown",
   "metadata": {},
   "source": [
    "## 3. Analyze the data"
   ]
  },
  {
   "cell_type": "markdown",
   "metadata": {},
   "source": [
    "We are planning to perform linear regression to predict the price, therefore we would like to plot each feature versus the actual price to show why linear regression is useful in this case"
   ]
  },
  {
   "cell_type": "code",
   "execution_count": 3,
   "metadata": {},
   "outputs": [
    {
     "data": {
      "image/png": "[encoded data removed]",
      "text/plain": [
       "<Figure size 432x288 with 1 Axes>"
      ]
     },
     "metadata": {},
     "output_type": "display_data"
    },
    {
     "data": {
      "image/png": "[encoded data removed]",
      "text/plain": [
       "<Figure size 432x288 with 1 Axes>"
      ]
     },
     "metadata": {},
     "output_type": "display_data"
    },
    {
     "data": {
      "image/png": "[encoded data removed]",
      "text/plain": [
       "<Figure size 432x288 with 1 Axes>"
      ]
     },
     "metadata": {},
     "output_type": "display_data"
    },
    {
     "data": {
      "image/png": "[encoded data removed]",
      "text/plain": [
       "<Figure size 432x288 with 1 Axes>"
      ]
     },
     "metadata": {},
     "output_type": "display_data"
    }
   ],
   "source": [
    "import matplotlib.pyplot as plt\n",
    "import matplotlib.markers as mk\n",
    "import pandas as pd\n",
    "import numpy as np\n",
    "# Read data\n",
    "df = pd.read_csv(\"clean_data.csv\", sep='\\t')\n",
    "\n",
    "# Plot yearbuilt versus price\n",
    "plt.scatter(df['YearBuilt'], df['Price'], color='red', marker='.')\n",
    "plt.title('YearBuilt versus Price')\n",
    "# Don't show the outliers\n",
    "plt.xlim((1900, 2018))\n",
    "plt.xlabel('YearBuilt', fontsize=14)\n",
    "plt.ylabel('Prices', fontsize=14)\n",
    "plt.grid(True)\n",
    "plt.show()\n",
    "\n",
    "# Plot buildingarea versus price\n",
    "plt.scatter(df['BuildingArea'], df['Price'], color='red', marker='.')\n",
    "plt.title('BuildingArea versus Price')\n",
    "# Zoom in\n",
    "plt.xlim((0, 1000))\n",
    "plt.xlabel('BuildingArea', fontsize=14)\n",
    "plt.ylabel('Prices', fontsize=14)\n",
    "plt.grid(True)\n",
    "plt.show()\n",
    "\n",
    "# Plot distance versus price\n",
    "plt.scatter(df['Distance'], df['Price'], color='red', marker='.')\n",
    "plt.title('Distance versus Price')\n",
    "plt.xlabel('Distance', fontsize=14)\n",
    "plt.ylabel('Prices', fontsize=14)\n",
    "plt.grid(True)\n",
    "plt.show()\n",
    "\n",
    "# Plot Car(Parking lots) versus price\n",
    "plt.scatter(df['Car'], df['Price'], color='red', marker='.')\n",
    "plt.title('# of Parking lots versus Price')\n",
    "plt.xlabel('# of Parking lots', fontsize=14)\n",
    "plt.ylabel('Prices', fontsize=14)\n",
    "plt.grid(True)\n",
    "plt.show()\n"
   ]
  },
  {
   "cell_type": "markdown",
   "metadata": {},
   "source": [
    "Graph 1: As we can see for the YearBuild graph, there seems to be a ascending trend of price from 1960 to 2018. This could be that houses before 1960 have probably undergone some forms of renovation, so even though the house is built relatively long ago, the price could still be high due to the cost of renovation. There are also lots of outliers because of the fact that the price does not solely depend on the year built but other factors.\n",
    "\n",
    "Graph 2: In the graph, we can clearly denote the linear relationship between price and building area.\n",
    "\n",
    "Graph 3: Like area versus building graph, we can see negative linear relationship between the price and distance to the CBD. This is expected, because of the common knowledge that the farther away the house is from the CBD the lower the price is.\n",
    "\n",
    "Graph 4: We have considered the number of parking lots can add some values to the property, as you can see on the x = 0 to x = 4. The prices of the properties increase as the number of parking lots goes up. But it seems that when the number of parking lots exceeds 5, the price becomes lower. A possible explanation would be houses that have more than 5 parking lots are usually located in the suburban which is why there are ample spaces for parking. And houses in suburban areas are usually cheaper. Nonetheless, we still believe that the number of parking lot would add marginal value to the value of the property."
   ]
  },
  {
   "cell_type": "markdown",
   "metadata": {},
   "source": [
    "## 4.1 Training on the whole dataset"
   ]
  },
  {
   "cell_type": "code",
   "execution_count": 4,
   "metadata": {},
   "outputs": [
    {
     "data": {
      "text/plain": [
       "(array([[  1.31000000e+01,   1.00000000e+00,   1.23000000e+02,\n",
       "           2.00800000e+03],\n",
       "        [  4.50000000e+00,   1.00000000e+00,   1.09000000e+02,\n",
       "           1.91000000e+03],\n",
       "        [  1.24000000e+01,   2.00000000e+00,   3.10000000e+02,\n",
       "           1.96300000e+03],\n",
       "        ..., \n",
       "        [  1.96000000e+01,   2.00000000e+00,   1.27000000e+02,\n",
       "           2.01200000e+03],\n",
       "        [  6.30000000e+00,   2.00000000e+00,   1.28000000e+02,\n",
       "           1.91000000e+03],\n",
       "        [  2.18000000e+01,   3.00000000e+00,   1.35000000e+02,\n",
       "           1.98000000e+03]]), array([[  542000.],\n",
       "        [ 1283000.],\n",
       "        [ 1400000.],\n",
       "        ..., \n",
       "        [  630000.],\n",
       "        [ 1726000.],\n",
       "        [  870000.]]))"
      ]
     },
     "execution_count": 4,
     "metadata": {},
     "output_type": "execute_result"
    }
   ],
   "source": [
    "from sklearn.utils import shuffle\n",
    "\n",
    "def get_data_points():\n",
    "    df = pd.read_csv(\"clean_data.csv\", sep='\\t')\n",
    "    df = df.dropna(how='any', axis=0)\n",
    "    df = shuffle(df)\n",
    "    x_points = df[['Distance', 'Car','BuildingArea', 'YearBuilt']]\n",
    "    y_points = df[['Price']]\n",
    "    \n",
    "    # We shuffle the data points here\n",
    "    \n",
    "    return np.array(x_points), np.array(y_points)\n",
    "\n",
    "get_data_points()"
   ]
  },
  {
   "cell_type": "markdown",
   "metadata": {},
   "source": [
    "## 4.2 Training with ridge linear regression"
   ]
  },
  {
   "cell_type": "markdown",
   "metadata": {},
   "source": [
    "In this section we will perform ridge linear regression and lasso linear regression without cross validation, just to see the best scenario that is, the maximum accuracy we can possibly achieve. We will perform cross validation in the next section."
   ]
  },
  {
   "cell_type": "code",
   "execution_count": 33,
   "metadata": {},
   "outputs": [
    {
     "name": "stdout",
     "output_type": "stream",
     "text": [
      "MSE: 255465091826.558990\n",
      "Standard MSE: 505435.546659\n"
     ]
    }
   ],
   "source": [
    "from sklearn.linear_model import Ridge\n",
    "\n",
    "# Obtain training data\n",
    "x, y = get_data_points()\n",
    "x_train = x\n",
    "y_train = y\n",
    "\n",
    "ridge = Ridge(alpha=1)\n",
    "ridge_mod = ridge.fit(x_train, y_train) \n",
    "ridge_pred = ridge_mod.predict(x)\n",
    "\n",
    "y_flat = y.flatten()\n",
    "sq_err = [ (y_flat[i] - ridge_pred[i]) ** 2 for i in range(len(y_flat))]\n",
    "\n",
    "print(\"MSE: %f\" % np.mean(sq_err))\n",
    "print(\"Standard MSE: %f\" % np.sqrt(np.mean(sq_err)))"
   ]
  },
  {
   "cell_type": "markdown",
   "metadata": {},
   "source": [
    "## 4.3 Training with lasso regression"
   ]
  },
  {
   "cell_type": "code",
   "execution_count": 36,
   "metadata": {},
   "outputs": [
    {
     "name": "stdout",
     "output_type": "stream",
     "text": [
      "MSE: 255465091694.998657\n",
      "Standard MSE: 505435.546529\n"
     ]
    }
   ],
   "source": [
    "from sklearn.linear_model import Lasso\n",
    "\n",
    "x, y = get_data_points()\n",
    "x_train = x\n",
    "y_train = y\n",
    "\n",
    "lasso = Lasso(alpha=1)\n",
    "lasso_mod = lasso.fit(x_train, y_train) \n",
    "lasso_pred = lasso_mod.predict(x)\n",
    "\n",
    "y_flat = y.flatten()\n",
    "sq_err = [ (y_flat[i] - lasso_pred[i]) ** 2 for i in range(len(y_flat))]\n",
    "\n",
    "print(\"MSE: %f\" % np.mean(sq_err))\n",
    "print(\"Standard MSE: %f\" % np.sqrt(np.mean(sq_err)))"
   ]
  },
  {
   "cell_type": "markdown",
   "metadata": {},
   "source": [
    "## 4.4 Conclusion"
   ]
  },
  {
   "cell_type": "markdown",
   "metadata": {},
   "source": [
    "Here we can denote that, for ridge regression, when alpha is 1, the best percision we can possibly achieve is standard mean square error = 505435.546659, MSE = 255465091826.558929, and for lasso regression when the alpha is 1, the best percision we can achieve is standard mean square error = 505435.546529, MSE = 255465091694.998657. And in the following sections, we will try to figure the best value of alpha for each regression method along with cross-validation to minimize the error. "
   ]
  },
  {
   "cell_type": "markdown",
   "metadata": {},
   "source": [
    "## 5.1 Ten-fold cross validation ridge regression"
   ]
  },
  {
   "cell_type": "markdown",
   "metadata": {},
   "source": [
    "Here we are still using alpha = 1 just to validate our training method, we will be using hyperparameter tuning with nested cross validation in the next section."
   ]
  },
  {
   "cell_type": "code",
   "execution_count": 38,
   "metadata": {},
   "outputs": [
    {
     "data": {
      "text/plain": [
       "array([[ 482874.22721615],\n",
       "       [ 496347.0869139 ],\n",
       "       [ 453516.27040967],\n",
       "       [ 472099.73437754],\n",
       "       [ 461123.40551045],\n",
       "       [ 663985.58852526],\n",
       "       [ 562733.96520826],\n",
       "       [ 482533.37735551],\n",
       "       [ 543948.04901774],\n",
       "       [ 443128.14059662]])"
      ]
     },
     "execution_count": 38,
     "metadata": {},
     "output_type": "execute_result"
    }
   ],
   "source": [
    "from sklearn.linear_model import Ridge\n",
    "\n",
    "def ridge_regression(x_train, y_train, x, y):\n",
    "    # Training\n",
    "    ridge = Ridge(alpha=1)\n",
    "    ridge_mod = ridge.fit(x_train, y_train) \n",
    "    # Predicting\n",
    "    ridge_pred = ridge_mod.predict(x)\n",
    "    # Calculate standard MSE\n",
    "    y_flat = y.flatten()\n",
    "    sq_err = [ (y_flat[i] - ridge_pred[i]) ** 2 for i in range(len(y_flat))]\n",
    "    return np.sqrt(np.mean(sq_err))\n",
    "    \n",
    "# Function for performing K-fold cross validation\n",
    "def k_fold(k,X,y):\n",
    "    (n, d) = np.shape(X)\n",
    "    z = np.zeros((k, 1))\n",
    "    for i in range(0,k):\n",
    "        T = set(range(int(np.floor((n*i)/k)), int(np.floor(((n*(i+1))/k)-1))+1))\n",
    "        S = set(range(0, n)) - T\n",
    "\n",
    "        z[i] = ridge_regression(X[list(S)], y[list(S)], X[list(T)], y[list(T)])\n",
    "    return z\n",
    "\n",
    "x, y = get_data_points()\n",
    "k_fold(10, x, y)"
   ]
  },
  {
   "cell_type": "markdown",
   "metadata": {},
   "source": [
    "As you can see, the standard MSE are actually quite close to our result in the previous section, which is a good sign."
   ]
  },
  {
   "cell_type": "markdown",
   "metadata": {},
   "source": [
    "## 5.2 Ten-fold cross validation lasso regression"
   ]
  },
  {
   "cell_type": "code",
   "execution_count": 39,
   "metadata": {},
   "outputs": [
    {
     "data": {
      "text/plain": [
       "array([[ 501292.66582142],\n",
       "       [ 576860.3918803 ],\n",
       "       [ 505380.94606706],\n",
       "       [ 436512.62423146],\n",
       "       [ 470500.90867136],\n",
       "       [ 506558.29593856],\n",
       "       [ 662211.35985902],\n",
       "       [ 482408.90066926],\n",
       "       [ 488983.34390354],\n",
       "       [ 446613.67685203]])"
      ]
     },
     "execution_count": 39,
     "metadata": {},
     "output_type": "execute_result"
    }
   ],
   "source": [
    "from sklearn.linear_model import Lasso\n",
    "\n",
    "def lasso_regression(x_train, y_train, x, y):\n",
    "    # Training\n",
    "    lasso = Lasso(alpha=1)\n",
    "    lasso_mod = lasso.fit(x_train, y_train) \n",
    "    # Predicting\n",
    "    lasso_pred = lasso_mod.predict(x)\n",
    "    y_flat = y.flatten()\n",
    "    sq_err = [ (y_flat[i] - lasso_pred[i]) ** 2 for i in range(len(y_flat))]\n",
    "    return np.sqrt(np.mean(sq_err))\n",
    "    \n",
    "# Function for performing K-fold cross validation\n",
    "def k_fold(k,X,y):\n",
    "    (n, d) = np.shape(X)\n",
    "    z = np.zeros((k, 1))\n",
    "    for i in range(0,k):\n",
    "        T = set(range(int(np.floor((n*i)/k)), int(np.floor(((n*(i+1))/k)-1))+1))\n",
    "        S = set(range(0, n)) - T\n",
    "        \n",
    "        z[i] = lasso_regression(X[list(S)], y[list(S)], X[list(T)], y[list(T)])\n",
    "    return z\n",
    "\n",
    "x, y = get_data_points()\n",
    "k_fold(10, x, y)"
   ]
  },
  {
   "cell_type": "markdown",
   "metadata": {},
   "source": [
    "As you can see, the standard MSE are actually quite close to our result in the previous section which is a good sign."
   ]
  },
  {
   "cell_type": "markdown",
   "metadata": {},
   "source": [
    "## 6.1 Hyperparameter tuning with nested cross validation\n"
   ]
  },
  {
   "cell_type": "markdown",
   "metadata": {},
   "source": [
    "In this section, we will see how to properly tune hyperparameters by using nested cross validation. We will be using bootstrapping inside ten-fold cross validation. We call it nested cross validation because we use one cross validation method inside another one. For bootstraping inside k-fold validation, we use B = 10(otherwise the process could be too slow)."
   ]
  },
  {
   "cell_type": "markdown",
   "metadata": {},
   "source": [
    "## 6.2 Ridge regression"
   ]
  },
  {
   "cell_type": "code",
   "execution_count": 74,
   "metadata": {},
   "outputs": [
    {
     "name": "stdout",
     "output_type": "stream",
     "text": [
      "Fold #0: Best error is 508526.723718\n",
      "Fold #1: Best error is 502742.119393\n",
      "Fold #2: Best error is 505394.709562\n",
      "Fold #3: Best error is 502721.242911\n",
      "Fold #4: Best error is 499539.515885\n",
      "Fold #5: Best error is 501757.168018\n",
      "Fold #6: Best error is 506532.205451\n",
      "Fold #7: Best error is 489093.110946\n",
      "Fold #8: Best error is 510649.783028\n",
      "Fold #9: Best error is 509523.176233\n",
      "[0, 100.0, 10.0, 0, 0.1, 0.01, 0.1, 0.01, 0, 10.0]\n",
      "ModeResult(mode=array([ 0.]), count=array([3]))\n"
     ]
    }
   ],
   "source": [
    "from scipy.stats import mode\n",
    "\n",
    "def bootstrapping_ridge(B, X_subset, y_subset, alpha):\n",
    "    # Get the size of the data\n",
    "    n = len(X_subset)\n",
    "    # Have an array to record errors\n",
    "    bs_err = np.zeros(B)\n",
    "    # Repeat B times\n",
    "    for b in range(B):\n",
    "        # Randomly select n samples\n",
    "        train_samples = list(np.random.randint(0,n,n))\n",
    "        # Construct test samples\n",
    "        test_samples = list(set(range(n)) - set(train_samples))\n",
    "        # Construct learning model\n",
    "        ridge = Ridge(alpha=alpha)\n",
    "        # Start learning\n",
    "        ridge.fit(X_subset[train_samples], y_subset[train_samples])\n",
    "        # Export result of test data\n",
    "        ridge_pred = ridge.predict(X_subset[test_samples])\n",
    "        # Store error in best error array \n",
    "        y_flat = y_subset[test_samples].flatten()\n",
    "        sq_err = [ (y_flat[i] - ridge_pred[i]) ** 2 for i in range(len(y_flat))]\n",
    "        bs_err[b] = np.sqrt(np.mean(sq_err))\n",
    "    \n",
    "    err = np.mean(bs_err)\n",
    "    return err\n",
    "\n",
    "# Get data points\n",
    "x, y = get_data_points()\n",
    "# Get data shape\n",
    "(n, d) = np.shape(x)\n",
    "# Set k = 10 because we are still doing 10-fold\n",
    "k = 10\n",
    "# Best alpha_list \n",
    "best_alphas = []\n",
    "\n",
    "# Do k-folds\n",
    "for i in range(k):\n",
    "    # Alpha candidates\n",
    "    alpha_arr = [1e-2, 1e-1, 0, 1e1, 1e2, 1e3, 1e4, 1e5]\n",
    "    # Store best alpha\n",
    "    best_a = None\n",
    "    # Store best err\n",
    "    best_err = None\n",
    "\n",
    "    T = set(range(int(np.floor((n*i)/k)), int(np.floor(((n*(i+1))/k)-1))+1))\n",
    "    S = set(range(0, n)) - T\n",
    "    \n",
    "    for a in alpha_arr:\n",
    "    \n",
    "        e = bootstrapping_ridge(30, x[list(S)], y[list(S)], a)\n",
    "        \n",
    "        if best_err is None or e < best_err:\n",
    "            best_err = e\n",
    "            best_a = a\n",
    "            \n",
    "    print(\"Fold #%d: Best error is %f\" % (i, best_err))\n",
    "    best_alphas.append(best_a)\n",
    "    \n",
    "print(best_alphas)\n",
    "print(mode(best_alphas))"
   ]
  },
  {
   "cell_type": "markdown",
   "metadata": {},
   "source": [
    "## 6.3 Lasso regression"
   ]
  },
  {
   "cell_type": "markdown",
   "metadata": {},
   "source": [
    "Note: Here we cannot use alpha = 0 because the data won't converge well when alpha is 0, hence, we use 1 instead."
   ]
  },
  {
   "cell_type": "code",
   "execution_count": 81,
   "metadata": {},
   "outputs": [
    {
     "name": "stderr",
     "output_type": "stream",
     "text": [
      "/opt/anaconda3/lib/python3.6/site-packages/sklearn/linear_model/coordinate_descent.py:484: ConvergenceWarning: Objective did not converge. You might want to increase the number of iterations. Fitting data with very small alpha may cause precision problems.\n",
      "  ConvergenceWarning)\n"
     ]
    },
    {
     "name": "stdout",
     "output_type": "stream",
     "text": [
      "Fold #0: Best error is 511796.560742\n",
      "Fold #1: Best error is 503521.284261\n",
      "Fold #2: Best error is 512366.010354\n",
      "Fold #3: Best error is 501250.517919\n",
      "Fold #4: Best error is 492917.809549\n",
      "Fold #5: Best error is 509199.033800\n",
      "Fold #6: Best error is 501666.991677\n",
      "Fold #7: Best error is 497308.991026\n",
      "Fold #8: Best error is 509523.851530\n",
      "Fold #9: Best error is 508728.364332\n",
      "[10000.0, -10.0, -10.0, 10.0, 10.0, 10000.0, -100.0, 1000.0, 1000.0, 1000.0]\n",
      "ModeResult(mode=array([ 1000.]), count=array([3]))\n"
     ]
    }
   ],
   "source": [
    "from scipy.stats import mode\n",
    "\n",
    "def bootstrapping_lasso(B, X_subset, y_subset, alpha):\n",
    "    # Get the size of the data\n",
    "    n = len(X_subset)\n",
    "    # Have an array to record errors\n",
    "    bs_err = np.zeros(B)\n",
    "    # Repeat B times\n",
    "    for b in range(B):\n",
    "        # Randomly select n samples\n",
    "        train_samples = list(np.random.randint(0,n,n))\n",
    "        # Construct test samples\n",
    "        test_samples = list(set(range(n)) - set(train_samples))\n",
    "        # Construct learning model\n",
    "        lasso = Lasso(alpha=alpha)\n",
    "        # Start learning\n",
    "        lasso.fit(X_subset[train_samples], y_subset[train_samples])\n",
    "        # Export result of test data\n",
    "        lasso_pred = lasso.predict(X_subset[test_samples])\n",
    "        # Store Standard MSE\n",
    "        y_flat = y_subset[test_samples].flatten()\n",
    "        sq_err = [ (y_flat[i] - lasso_pred[i]) ** 2 for i in range(len(y_flat))]\n",
    "        bs_err[b] = np.sqrt(np.mean(sq_err))\n",
    "    \n",
    "    err = np.mean(bs_err)\n",
    "    return err\n",
    "\n",
    "# Get data points\n",
    "x, y = get_data_points()\n",
    "# Get data shape\n",
    "(n, d) = np.shape(x)\n",
    "# Set k = 10 because we are still doing 10-fold\n",
    "k = 10\n",
    "# Best alpha_list \n",
    "best_alphas = []\n",
    "\n",
    "# Do k-folds\n",
    "for i in range(k):\n",
    "    # Alpha candidates\n",
    "    alpha_arr = [-1e2, -1e1, 1, 1e1, 1e2, 1e3, 1e4, 1e5]\n",
    "    # Store best alpha\n",
    "    best_a = None\n",
    "    # Store best err\n",
    "    best_err = None\n",
    "\n",
    "    T = set(range(int(np.floor((n*i)/k)), int(np.floor(((n*(i+1))/k)-1))+1))\n",
    "    S = set(range(0, n)) - T\n",
    "    \n",
    "    for a in alpha_arr:\n",
    "        # Doing bootstraping inside the k-fold sample data\n",
    "        e = bootstrapping_lasso(30, x[list(S)], y[list(S)], a)\n",
    "        \n",
    "        if best_err is None or e < best_err:\n",
    "            best_err = e\n",
    "            best_a = a\n",
    "            \n",
    "    print(\"Fold #%d: Best error is %f\" % (i, best_err))\n",
    "    best_alphas.append(best_a)\n",
    "    \n",
    "print(best_alphas)\n",
    "print(mode(best_alphas))"
   ]
  },
  {
   "cell_type": "markdown",
   "metadata": {},
   "source": [
    "The best alphas for both regression are hard to find because the bootstraping could cause very large variance thus changing our best alpha value. My method of finding the best alpha is by using the vote system, that is we take the alpha value that has the most occurence in the best_alpha array.\n",
    "\n",
    "For ridge regression we found that the best alpha value for our problem is 0. We have actually repeated the proccedure multiple times, and in most cases, the alpha value would be somewhat close to 0 (-10, or 10). \n",
    "\n",
    "And for Lasso regression, in most cases, I get alpha equal to $10^3$(1e3). Therefore, for the best hyperparameters of those 2 regressions, I would use ${\\alpha} = 0$ for ridge regression and ${\\alpha} = -10^2$ for lasso regression."
   ]
  },
  {
   "cell_type": "markdown",
   "metadata": {},
   "source": [
    "## 7. Discussion"
   ]
  },
  {
   "cell_type": "markdown",
   "metadata": {},
   "source": [
    "In this section, since we have finished analyzing the problem, training, cross validation and hyperparameters tuning, we are going to access and discuss our result. \n",
    "\n",
    "First and foremost, we would like to know how good the linear regression is, that is how accurate is the our prediction versus the reality. To answer this question, we would use MSE and coefficient of determination as a reference. Here's how we figure out the coefficient of determination, "
   ]
  },
  {
   "cell_type": "code",
   "execution_count": 79,
   "metadata": {},
   "outputs": [
    {
     "name": "stdout",
     "output_type": "stream",
     "text": [
      "Ridge regression\n",
      "R^2: 0.446790\n",
      "Standard MSE: 505435.546528\n",
      "Lasso regression\n",
      "R^2: 0.446787\n",
      "Standard MSE: 505436.872038\n"
     ]
    }
   ],
   "source": [
    "from statistics import mean\n",
    "def coef_determin(y_real, y_pred):\n",
    "    y_bar = sum(y_real) / len(y_real)\n",
    "    SE_y = sum([(y - y_bar) ** 2 for y in y_real])\n",
    "    SE_line = sum([(y_real[i] - y_pred[i]) ** 2 for i in range(len(y_real))])\n",
    "    return 1. - (SE_line / SE_y)[0]\n",
    "\n",
    "x, y = get_data_points()\n",
    "ridge = Ridge(alpha=0)\n",
    "ridge_mod = ridge.fit(x, y) \n",
    "\n",
    "ridge_pred = ridge_mod.predict(x)\n",
    "y_flat = y.flatten()\n",
    "sq_err = [ (y_flat[i] - ridge_pred[i]) ** 2 for i in range(len(y_flat))]\n",
    "\n",
    "print(\"Ridge regression\")\n",
    "print(\"R^2: %f\" % coef_determin(y, ridge_pred))\n",
    "print(\"Standard MSE: %f\" % np.sqrt(np.mean(sq_err)))\n",
    "\n",
    "lasso = Lasso(alpha=1e3)\n",
    "lasso_mod = lasso.fit(x, y) \n",
    "\n",
    "lasso_pred = lasso_mod.predict(x)\n",
    "y_flat = y.flatten()\n",
    "sq_err = [ (y_flat[i] - lasso_pred[i]) ** 2 for i in range(len(y_flat))]\n",
    "\n",
    "print(\"Lasso regression\")\n",
    "print(\"R^2: %f\" % coef_determin(y, lasso_pred))\n",
    "print(\"Standard MSE: %f\" % np.sqrt(np.mean(sq_err)))"
   ]
  },
  {
   "cell_type": "markdown",
   "metadata": {},
   "source": [
    "Our coefficient of determination is 0.446790 (best case scenario), given the fact the maximum value of R^2 is 1, the our result is acceptable even though not perfect. More intuitively speaking, our prediction of price is averagely off by 505435 $(Austrailian Dollar since the data are from Melbounrn), which is not quite useful in terms of practical usage. Furthermore, those errors are our best case scenarios, therefore we should expect the error to be much larger (above MSE = 500000) like we did in the cross validation.  "
   ]
  },
  {
   "cell_type": "markdown",
   "metadata": {},
   "source": [
    "Furthermore, we would like to know, what causes this inaccruacy. In fact, there are several reasons that our predict is so inaccurate,\n",
    "* First, the number of car lots does not really have linear relationship with the price of the house, as we plotted on part 2. If when the number of parking lots goes above 6, the price seems to go down. \n",
    "* Like the previous one, the year built seems to have a linear relationship with price, but there are lots of outlier, the relationship is really weak.\n",
    "* Besides, the house price is really capricious without knowing the actually location, block, peripherals. And the market is also fluctuating all the time, so the data itself could vary alot. "
   ]
  },
  {
   "cell_type": "markdown",
   "metadata": {},
   "source": [
    "Besides, we are also interested, that if linear regression is a good way to predict the house price, in other words, is there better ways to predict the price like non-linear regression etc. To verify this, we could use residual testing from statistics to see if linear regression is a good model to use. "
   ]
  }
 ],
 "metadata": {
  "kernelspec": {
   "display_name": "Python [default]",
   "language": "python",
   "name": "python3"
  },
  "language_info": {
   "codemirror_mode": {
    "name": "ipython",
    "version": 3
   },
   "file_extension": ".py",
   "mimetype": "text/x-python",
   "name": "python",
   "nbconvert_exporter": "python",
   "pygments_lexer": "ipython3",
   "version": "3.6.4"
  }
 },
 "nbformat": 4,
 "nbformat_minor": 2
}
